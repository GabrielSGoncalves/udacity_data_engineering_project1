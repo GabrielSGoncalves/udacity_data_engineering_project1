{
 "cells": [
  {
   "cell_type": "markdown",
   "metadata": {},
   "source": [
    "# etl.py test notebook\n",
    "The goal of this notebook is to test the functions from `etl.py` independently"
   ]
  },
  {
   "cell_type": "code",
   "execution_count": 3,
   "metadata": {},
   "outputs": [],
   "source": [
    "import os\n",
    "import glob\n",
    "import psycopg2\n",
    "import pandas as pd\n",
    "from sql_queries import *\n",
    "from etl import process_song_file,process_data"
   ]
  },
  {
   "cell_type": "markdown",
   "metadata": {},
   "source": [
    "## 1. Testing `process_song_file`"
   ]
  },
  {
   "cell_type": "code",
   "execution_count": 2,
   "metadata": {},
   "outputs": [],
   "source": [
    "conn = psycopg2.connect(\n",
    "        \"host=127.0.0.1 dbname=sparkifydb user=student password=student\"\n",
    "    )\n",
    "cur = conn.cursor()"
   ]
  },
  {
   "cell_type": "code",
   "execution_count": 3,
   "metadata": {},
   "outputs": [],
   "source": [
    "filepath='data/song_data'"
   ]
  },
  {
   "cell_type": "code",
   "execution_count": 7,
   "metadata": {},
   "outputs": [],
   "source": [
    "all_files = []\n",
    "for root, dirs, files in os.walk(filepath):\n",
    "    files = glob.glob(os.path.join(root, '*.json'))\n",
    "    for f in files:\n",
    "        all_files.append(os.path.abspath(f))"
   ]
  },
  {
   "cell_type": "code",
   "execution_count": 8,
   "metadata": {},
   "outputs": [
    {
     "data": {
      "text/plain": [
       "['/home/gabriel/Documents/Repos/udacity_data_engineering_project1/data/song_data/A/A/A/TRAAAVG12903CFA543.json',\n",
       " '/home/gabriel/Documents/Repos/udacity_data_engineering_project1/data/song_data/A/A/A/TRAAABD128F429CF47.json',\n",
       " '/home/gabriel/Documents/Repos/udacity_data_engineering_project1/data/song_data/A/A/A/TRAAAAW128F429D538.json']"
      ]
     },
     "execution_count": 8,
     "metadata": {},
     "output_type": "execute_result"
    }
   ],
   "source": [
    "all_files[:3]"
   ]
  },
  {
   "cell_type": "code",
   "execution_count": null,
   "metadata": {},
   "outputs": [],
   "source": [
    "df = pd.read_json(all_files[0], lines=True)\n",
    "\n",
    "# insert song record\n",
    "song_data = (\n",
    "    df.loc[0, ['song_id', 'title', 'artist_id', 'year', 'duration']]\n",
    "    .astype(str)\n",
    "    .tolist()\n",
    ")\n",
    "cur.execute(song_table_insert, song_data)\n",
    "\n",
    "# insert artist record\n",
    "artist_data = (\n",
    "    df.loc[\n",
    "        0,\n",
    "        [\n",
    "            'artist_id',\n",
    "            'artist_name',\n",
    "            'artist_location',\n",
    "            'artist_latitude',\n",
    "            'artist_longitude',\n",
    "        ],\n",
    "    ].values.tolist()\n",
    ")"
   ]
  },
  {
   "cell_type": "code",
   "execution_count": null,
   "metadata": {},
   "outputs": [],
   "source": [
    "process_song_file(cur, all_files[0])"
   ]
  },
  {
   "cell_type": "code",
   "execution_count": null,
   "metadata": {},
   "outputs": [],
   "source": [
    "process_data(cur, conn, filepath='data/song_data', func=process_song_file)"
   ]
  },
  {
   "cell_type": "markdown",
   "metadata": {},
   "source": [
    "## 2. Testing `create_database`"
   ]
  },
  {
   "cell_type": "code",
   "execution_count": 3,
   "metadata": {},
   "outputs": [],
   "source": [
    "# connect to default database    \n",
    "conn = psycopg2.connect(\n",
    "    \"host=127.0.0.1 dbname=studentdb user=student password=student\"\n",
    ")\n",
    "conn.set_session(autocommit=True)\n",
    "cur = conn.cursor()"
   ]
  },
  {
   "cell_type": "code",
   "execution_count": null,
   "metadata": {},
   "outputs": [],
   "source": [
    "# create sparkify database with UTF8 encoding\n",
    "cur.execute(\"DROP DATABASE IF EXISTS sparkifydb\")"
   ]
  },
  {
   "cell_type": "markdown",
   "metadata": {},
   "source": [
    "## 3. Testing `process_log_file`"
   ]
  },
  {
   "cell_type": "code",
   "execution_count": 5,
   "metadata": {},
   "outputs": [],
   "source": [
    "filepath = 'data/log_data'"
   ]
  },
  {
   "cell_type": "code",
   "execution_count": 6,
   "metadata": {},
   "outputs": [],
   "source": [
    "all_files = []\n",
    "for root, dirs, files in os.walk(filepath):\n",
    "    files = glob.glob(os.path.join(root, '*.json'))\n",
    "    for f in files:\n",
    "        all_files.append(os.path.abspath(f))"
   ]
  },
  {
   "cell_type": "code",
   "execution_count": 7,
   "metadata": {},
   "outputs": [
    {
     "data": {
      "text/plain": [
       "['/home/gabriel/Documents/Repos/udacity_data_engineering_project1/data/log_data/2018/11/2018-11-25-events.json',\n",
       " '/home/gabriel/Documents/Repos/udacity_data_engineering_project1/data/log_data/2018/11/2018-11-27-events.json']"
      ]
     },
     "execution_count": 7,
     "metadata": {},
     "output_type": "execute_result"
    }
   ],
   "source": [
    "all_files[:2]"
   ]
  },
  {
   "cell_type": "code",
   "execution_count": 8,
   "metadata": {},
   "outputs": [],
   "source": [
    "df = pd.read_json(all_files[2], lines=True, convert_dates=['ts'])\n",
    "df = df[df['page'] == 'NextSong']"
   ]
  },
  {
   "cell_type": "code",
   "execution_count": 9,
   "metadata": {},
   "outputs": [
    {
     "data": {
      "text/plain": [
       "artist                   object\n",
       "auth                     object\n",
       "firstName                object\n",
       "gender                   object\n",
       "itemInSession             int64\n",
       "lastName                 object\n",
       "length                  float64\n",
       "level                    object\n",
       "location                 object\n",
       "method                   object\n",
       "page                     object\n",
       "registration            float64\n",
       "sessionId                 int64\n",
       "song                     object\n",
       "status                    int64\n",
       "ts               datetime64[ns]\n",
       "userAgent                object\n",
       "userId                   object\n",
       "dtype: object"
      ]
     },
     "execution_count": 9,
     "metadata": {},
     "output_type": "execute_result"
    }
   ],
   "source": [
    "df.dtypes"
   ]
  },
  {
   "cell_type": "code",
   "execution_count": 13,
   "metadata": {},
   "outputs": [],
   "source": [
    "song_select_test = '''\n",
    "SELECT s.song_id,\n",
    "       s.artist_id\n",
    "  FROM songs s\n",
    "  JOIN artists a ON s.artist_id = a.artist_id\n",
    " WHERE 1 = 1\n",
    "   AND s.title = %s\n",
    "   AND a.name = %s\n",
    "   AND s.duration = %s\n",
    "'''"
   ]
  },
  {
   "cell_type": "code",
   "execution_count": 21,
   "metadata": {},
   "outputs": [
    {
     "name": "stdout",
     "output_type": "stream",
     "text": [
      "\n",
      "SELECT s.song_id,\n",
      "       s.artist_id\n",
      "  FROM songs s\n",
      "  JOIN artists a ON s.artist_id = a.artist_id\n",
      " WHERE 1 = 1\n",
      "   AND s.title = Sehr kosmisch\n",
      "   AND a.name = Harmonia\n",
      "   AND s.duration = 655.77751\n",
      "\n"
     ]
    }
   ],
   "source": [
    "print(f'''\n",
    "SELECT s.song_id,\n",
    "       s.artist_id\n",
    "  FROM songs s\n",
    "  JOIN artists a ON s.artist_id = a.artist_id\n",
    " WHERE 1 = 1\n",
    "   AND s.title = {row.song}\n",
    "   AND a.name = {row.artist}\n",
    "   AND s.duration = {row.length}\n",
    "''')"
   ]
  },
  {
   "cell_type": "code",
   "execution_count": 12,
   "metadata": {},
   "outputs": [
    {
     "data": {
      "text/plain": [
       "'\\nSELECT\\n    s.song_id, s.artist_id\\nFROM\\n    songs s\\n        JOIN artists a ON s.artist_id = a.artist_id\\nWHERE\\n    s.title = %s\\n    AND a.name = %s\\n    AND s.duration = %s\\n'"
      ]
     },
     "execution_count": 12,
     "metadata": {},
     "output_type": "execute_result"
    }
   ],
   "source": [
    "song_select"
   ]
  },
  {
   "cell_type": "code",
   "execution_count": 22,
   "metadata": {},
   "outputs": [],
   "source": [
    "row = df.iloc[2]"
   ]
  },
  {
   "cell_type": "code",
   "execution_count": 24,
   "metadata": {},
   "outputs": [
    {
     "data": {
      "text/plain": [
       "'Marry Me'"
      ]
     },
     "execution_count": 24,
     "metadata": {},
     "output_type": "execute_result"
    }
   ],
   "source": [
    "row.song"
   ]
  },
  {
   "cell_type": "code",
   "execution_count": 25,
   "metadata": {},
   "outputs": [
    {
     "data": {
      "text/plain": [
       "'Train'"
      ]
     },
     "execution_count": 25,
     "metadata": {},
     "output_type": "execute_result"
    }
   ],
   "source": [
    "row.artist"
   ]
  },
  {
   "cell_type": "code",
   "execution_count": 26,
   "metadata": {},
   "outputs": [
    {
     "data": {
      "text/plain": [
       "205.45261"
      ]
     },
     "execution_count": 26,
     "metadata": {},
     "output_type": "execute_result"
    }
   ],
   "source": [
    "row.length"
   ]
  },
  {
   "cell_type": "code",
   "execution_count": 18,
   "metadata": {},
   "outputs": [],
   "source": [
    "cur.execute(song_select_test, (row.song, row.artist, row.length))\n",
    "results = cur.fetchone()"
   ]
  },
  {
   "cell_type": "code",
   "execution_count": 19,
   "metadata": {},
   "outputs": [],
   "source": [
    "results"
   ]
  },
  {
   "cell_type": "markdown",
   "metadata": {},
   "source": [
    "## Validation: Artist in logs and artist in Song file"
   ]
  },
  {
   "cell_type": "markdown",
   "metadata": {},
   "source": [
    "### Artists in song_data"
   ]
  },
  {
   "cell_type": "code",
   "execution_count": 1,
   "metadata": {},
   "outputs": [],
   "source": [
    "filepath='data/song_data'"
   ]
  },
  {
   "cell_type": "code",
   "execution_count": 4,
   "metadata": {},
   "outputs": [],
   "source": [
    "all_files = []\n",
    "for root, dirs, files in os.walk(filepath):\n",
    "    files = glob.glob(os.path.join(root, '*.json'))\n",
    "    for f in files:\n",
    "        all_files.append(os.path.abspath(f))"
   ]
  },
  {
   "cell_type": "code",
   "execution_count": 10,
   "metadata": {},
   "outputs": [],
   "source": [
    "df_song_data = pd.DataFrame()\n",
    "for file in all_files:\n",
    "    df_song_data = pd.concat([df_song_data, pd.read_json(file, lines=True)])"
   ]
  },
  {
   "cell_type": "code",
   "execution_count": 13,
   "metadata": {},
   "outputs": [
    {
     "data": {
      "text/html": [
       "<div>\n",
       "<style scoped>\n",
       "    .dataframe tbody tr th:only-of-type {\n",
       "        vertical-align: middle;\n",
       "    }\n",
       "\n",
       "    .dataframe tbody tr th {\n",
       "        vertical-align: top;\n",
       "    }\n",
       "\n",
       "    .dataframe thead th {\n",
       "        text-align: right;\n",
       "    }\n",
       "</style>\n",
       "<table border=\"1\" class=\"dataframe\">\n",
       "  <thead>\n",
       "    <tr style=\"text-align: right;\">\n",
       "      <th></th>\n",
       "      <th>artist_id</th>\n",
       "      <th>artist_latitude</th>\n",
       "      <th>artist_location</th>\n",
       "      <th>artist_longitude</th>\n",
       "      <th>artist_name</th>\n",
       "      <th>duration</th>\n",
       "      <th>num_songs</th>\n",
       "      <th>song_id</th>\n",
       "      <th>title</th>\n",
       "      <th>year</th>\n",
       "    </tr>\n",
       "  </thead>\n",
       "  <tbody>\n",
       "    <tr>\n",
       "      <th>0</th>\n",
       "      <td>ARNTLGG11E2835DDB9</td>\n",
       "      <td>NaN</td>\n",
       "      <td></td>\n",
       "      <td>NaN</td>\n",
       "      <td>Clp</td>\n",
       "      <td>266.39628</td>\n",
       "      <td>1</td>\n",
       "      <td>SOUDSGM12AC9618304</td>\n",
       "      <td>Insatiable (Instrumental Version)</td>\n",
       "      <td>0</td>\n",
       "    </tr>\n",
       "    <tr>\n",
       "      <th>0</th>\n",
       "      <td>ARMJAGH1187FB546F3</td>\n",
       "      <td>35.14968</td>\n",
       "      <td>Memphis, TN</td>\n",
       "      <td>-90.04892</td>\n",
       "      <td>The Box Tops</td>\n",
       "      <td>148.03546</td>\n",
       "      <td>1</td>\n",
       "      <td>SOCIWDW12A8C13D406</td>\n",
       "      <td>Soul Deep</td>\n",
       "      <td>1969</td>\n",
       "    </tr>\n",
       "    <tr>\n",
       "      <th>0</th>\n",
       "      <td>ARD7TVE1187B99BFB1</td>\n",
       "      <td>NaN</td>\n",
       "      <td>California - LA</td>\n",
       "      <td>NaN</td>\n",
       "      <td>Casual</td>\n",
       "      <td>218.93179</td>\n",
       "      <td>1</td>\n",
       "      <td>SOMZWCG12A8C13C480</td>\n",
       "      <td>I Didn't Mean To</td>\n",
       "      <td>0</td>\n",
       "    </tr>\n",
       "    <tr>\n",
       "      <th>0</th>\n",
       "      <td>AR8ZCNI1187B9A069B</td>\n",
       "      <td>NaN</td>\n",
       "      <td></td>\n",
       "      <td>NaN</td>\n",
       "      <td>Planet P Project</td>\n",
       "      <td>269.81832</td>\n",
       "      <td>1</td>\n",
       "      <td>SOIAZJW12AB01853F1</td>\n",
       "      <td>Pink World</td>\n",
       "      <td>1984</td>\n",
       "    </tr>\n",
       "    <tr>\n",
       "      <th>0</th>\n",
       "      <td>ARXR32B1187FB57099</td>\n",
       "      <td>NaN</td>\n",
       "      <td></td>\n",
       "      <td>NaN</td>\n",
       "      <td>Gob</td>\n",
       "      <td>209.60608</td>\n",
       "      <td>1</td>\n",
       "      <td>SOFSOCN12A8C143F5D</td>\n",
       "      <td>Face the Ashes</td>\n",
       "      <td>2007</td>\n",
       "    </tr>\n",
       "  </tbody>\n",
       "</table>\n",
       "</div>"
      ],
      "text/plain": [
       "            artist_id  artist_latitude  artist_location  artist_longitude  \\\n",
       "0  ARNTLGG11E2835DDB9              NaN                                NaN   \n",
       "0  ARMJAGH1187FB546F3         35.14968      Memphis, TN         -90.04892   \n",
       "0  ARD7TVE1187B99BFB1              NaN  California - LA               NaN   \n",
       "0  AR8ZCNI1187B9A069B              NaN                                NaN   \n",
       "0  ARXR32B1187FB57099              NaN                                NaN   \n",
       "\n",
       "        artist_name   duration  num_songs             song_id  \\\n",
       "0               Clp  266.39628          1  SOUDSGM12AC9618304   \n",
       "0      The Box Tops  148.03546          1  SOCIWDW12A8C13D406   \n",
       "0            Casual  218.93179          1  SOMZWCG12A8C13C480   \n",
       "0  Planet P Project  269.81832          1  SOIAZJW12AB01853F1   \n",
       "0               Gob  209.60608          1  SOFSOCN12A8C143F5D   \n",
       "\n",
       "                               title  year  \n",
       "0  Insatiable (Instrumental Version)     0  \n",
       "0                          Soul Deep  1969  \n",
       "0                   I Didn't Mean To     0  \n",
       "0                         Pink World  1984  \n",
       "0                     Face the Ashes  2007  "
      ]
     },
     "execution_count": 13,
     "metadata": {},
     "output_type": "execute_result"
    }
   ],
   "source": [
    "df_song_data.head()"
   ]
  },
  {
   "cell_type": "code",
   "execution_count": 34,
   "metadata": {},
   "outputs": [
    {
     "data": {
      "text/html": [
       "<div>\n",
       "<style scoped>\n",
       "    .dataframe tbody tr th:only-of-type {\n",
       "        vertical-align: middle;\n",
       "    }\n",
       "\n",
       "    .dataframe tbody tr th {\n",
       "        vertical-align: top;\n",
       "    }\n",
       "\n",
       "    .dataframe thead th {\n",
       "        text-align: right;\n",
       "    }\n",
       "</style>\n",
       "<table border=\"1\" class=\"dataframe\">\n",
       "  <thead>\n",
       "    <tr style=\"text-align: right;\">\n",
       "      <th></th>\n",
       "      <th>artist_id</th>\n",
       "      <th>artist_latitude</th>\n",
       "      <th>artist_location</th>\n",
       "      <th>artist_longitude</th>\n",
       "      <th>artist_name</th>\n",
       "      <th>duration</th>\n",
       "      <th>num_songs</th>\n",
       "      <th>song_id</th>\n",
       "      <th>title</th>\n",
       "      <th>year</th>\n",
       "    </tr>\n",
       "  </thead>\n",
       "  <tbody>\n",
       "    <tr>\n",
       "      <th>0</th>\n",
       "      <td>ARKULSX1187FB45F84</td>\n",
       "      <td>39.49974</td>\n",
       "      <td>Utah</td>\n",
       "      <td>-111.54732</td>\n",
       "      <td>Trafik</td>\n",
       "      <td>424.12363</td>\n",
       "      <td>1</td>\n",
       "      <td>SOQVMXR12A81C21483</td>\n",
       "      <td>Salt In NYC</td>\n",
       "      <td>0</td>\n",
       "    </tr>\n",
       "  </tbody>\n",
       "</table>\n",
       "</div>"
      ],
      "text/plain": [
       "            artist_id  artist_latitude artist_location  artist_longitude  \\\n",
       "0  ARKULSX1187FB45F84         39.49974            Utah        -111.54732   \n",
       "\n",
       "  artist_name   duration  num_songs             song_id        title  year  \n",
       "0      Trafik  424.12363          1  SOQVMXR12A81C21483  Salt In NYC     0  "
      ]
     },
     "execution_count": 34,
     "metadata": {},
     "output_type": "execute_result"
    }
   ],
   "source": [
    "df_song_data[df_song_data.artist_name == 'Trafik']"
   ]
  },
  {
   "cell_type": "markdown",
   "metadata": {},
   "source": [
    "### Artists in log_data"
   ]
  },
  {
   "cell_type": "code",
   "execution_count": 19,
   "metadata": {},
   "outputs": [],
   "source": [
    "all_files_log = []\n",
    "for root, dirs, files in os.walk('data/log_data'):\n",
    "    files = glob.glob(os.path.join(root, '*.json'))\n",
    "    for f in files:\n",
    "        all_files_log.append(os.path.abspath(f))"
   ]
  },
  {
   "cell_type": "code",
   "execution_count": 21,
   "metadata": {},
   "outputs": [],
   "source": [
    "df_log_data = pd.DataFrame()\n",
    "for file in all_files_log:\n",
    "    df_log_data = pd.concat([df_log_data, pd.read_json(file, lines=True)])"
   ]
  },
  {
   "cell_type": "code",
   "execution_count": 23,
   "metadata": {},
   "outputs": [
    {
     "data": {
      "text/plain": [
       "(8056, 18)"
      ]
     },
     "execution_count": 23,
     "metadata": {},
     "output_type": "execute_result"
    }
   ],
   "source": [
    "df_log_data.shape"
   ]
  },
  {
   "cell_type": "code",
   "execution_count": 22,
   "metadata": {},
   "outputs": [
    {
     "data": {
      "text/html": [
       "<div>\n",
       "<style scoped>\n",
       "    .dataframe tbody tr th:only-of-type {\n",
       "        vertical-align: middle;\n",
       "    }\n",
       "\n",
       "    .dataframe tbody tr th {\n",
       "        vertical-align: top;\n",
       "    }\n",
       "\n",
       "    .dataframe thead th {\n",
       "        text-align: right;\n",
       "    }\n",
       "</style>\n",
       "<table border=\"1\" class=\"dataframe\">\n",
       "  <thead>\n",
       "    <tr style=\"text-align: right;\">\n",
       "      <th></th>\n",
       "      <th>artist</th>\n",
       "      <th>auth</th>\n",
       "      <th>firstName</th>\n",
       "      <th>gender</th>\n",
       "      <th>itemInSession</th>\n",
       "      <th>lastName</th>\n",
       "      <th>length</th>\n",
       "      <th>level</th>\n",
       "      <th>location</th>\n",
       "      <th>method</th>\n",
       "      <th>page</th>\n",
       "      <th>registration</th>\n",
       "      <th>sessionId</th>\n",
       "      <th>song</th>\n",
       "      <th>status</th>\n",
       "      <th>ts</th>\n",
       "      <th>userAgent</th>\n",
       "      <th>userId</th>\n",
       "    </tr>\n",
       "  </thead>\n",
       "  <tbody>\n",
       "    <tr>\n",
       "      <th>0</th>\n",
       "      <td>matchbox twenty</td>\n",
       "      <td>Logged In</td>\n",
       "      <td>Jayden</td>\n",
       "      <td>F</td>\n",
       "      <td>0</td>\n",
       "      <td>Duffy</td>\n",
       "      <td>177.65832</td>\n",
       "      <td>free</td>\n",
       "      <td>Seattle-Tacoma-Bellevue, WA</td>\n",
       "      <td>PUT</td>\n",
       "      <td>NextSong</td>\n",
       "      <td>1.540146e+12</td>\n",
       "      <td>846</td>\n",
       "      <td>Argue (LP Version)</td>\n",
       "      <td>200</td>\n",
       "      <td>1543109954796</td>\n",
       "      <td>\"Mozilla/5.0 (iPhone; CPU iPhone OS 7_1_2 like...</td>\n",
       "      <td>76</td>\n",
       "    </tr>\n",
       "    <tr>\n",
       "      <th>1</th>\n",
       "      <td>The Lonely Island / T-Pain</td>\n",
       "      <td>Logged In</td>\n",
       "      <td>Jayden</td>\n",
       "      <td>F</td>\n",
       "      <td>1</td>\n",
       "      <td>Duffy</td>\n",
       "      <td>156.23791</td>\n",
       "      <td>free</td>\n",
       "      <td>Seattle-Tacoma-Bellevue, WA</td>\n",
       "      <td>PUT</td>\n",
       "      <td>NextSong</td>\n",
       "      <td>1.540146e+12</td>\n",
       "      <td>846</td>\n",
       "      <td>I'm On A Boat</td>\n",
       "      <td>200</td>\n",
       "      <td>1543110131796</td>\n",
       "      <td>\"Mozilla/5.0 (iPhone; CPU iPhone OS 7_1_2 like...</td>\n",
       "      <td>76</td>\n",
       "    </tr>\n",
       "    <tr>\n",
       "      <th>2</th>\n",
       "      <td>None</td>\n",
       "      <td>Logged In</td>\n",
       "      <td>Jayden</td>\n",
       "      <td>F</td>\n",
       "      <td>2</td>\n",
       "      <td>Duffy</td>\n",
       "      <td>NaN</td>\n",
       "      <td>free</td>\n",
       "      <td>Seattle-Tacoma-Bellevue, WA</td>\n",
       "      <td>GET</td>\n",
       "      <td>Home</td>\n",
       "      <td>1.540146e+12</td>\n",
       "      <td>846</td>\n",
       "      <td>None</td>\n",
       "      <td>200</td>\n",
       "      <td>1543110132796</td>\n",
       "      <td>\"Mozilla/5.0 (iPhone; CPU iPhone OS 7_1_2 like...</td>\n",
       "      <td>76</td>\n",
       "    </tr>\n",
       "    <tr>\n",
       "      <th>3</th>\n",
       "      <td>None</td>\n",
       "      <td>Logged In</td>\n",
       "      <td>Jayden</td>\n",
       "      <td>F</td>\n",
       "      <td>3</td>\n",
       "      <td>Duffy</td>\n",
       "      <td>NaN</td>\n",
       "      <td>free</td>\n",
       "      <td>Seattle-Tacoma-Bellevue, WA</td>\n",
       "      <td>GET</td>\n",
       "      <td>Settings</td>\n",
       "      <td>1.540146e+12</td>\n",
       "      <td>846</td>\n",
       "      <td>None</td>\n",
       "      <td>200</td>\n",
       "      <td>1543110168796</td>\n",
       "      <td>\"Mozilla/5.0 (iPhone; CPU iPhone OS 7_1_2 like...</td>\n",
       "      <td>76</td>\n",
       "    </tr>\n",
       "    <tr>\n",
       "      <th>4</th>\n",
       "      <td>None</td>\n",
       "      <td>Logged In</td>\n",
       "      <td>Jayden</td>\n",
       "      <td>F</td>\n",
       "      <td>4</td>\n",
       "      <td>Duffy</td>\n",
       "      <td>NaN</td>\n",
       "      <td>free</td>\n",
       "      <td>Seattle-Tacoma-Bellevue, WA</td>\n",
       "      <td>PUT</td>\n",
       "      <td>Save Settings</td>\n",
       "      <td>1.540146e+12</td>\n",
       "      <td>846</td>\n",
       "      <td>None</td>\n",
       "      <td>307</td>\n",
       "      <td>1543110169796</td>\n",
       "      <td>\"Mozilla/5.0 (iPhone; CPU iPhone OS 7_1_2 like...</td>\n",
       "      <td>76</td>\n",
       "    </tr>\n",
       "  </tbody>\n",
       "</table>\n",
       "</div>"
      ],
      "text/plain": [
       "                       artist       auth firstName gender  itemInSession  \\\n",
       "0             matchbox twenty  Logged In    Jayden      F              0   \n",
       "1  The Lonely Island / T-Pain  Logged In    Jayden      F              1   \n",
       "2                        None  Logged In    Jayden      F              2   \n",
       "3                        None  Logged In    Jayden      F              3   \n",
       "4                        None  Logged In    Jayden      F              4   \n",
       "\n",
       "  lastName     length level                     location method  \\\n",
       "0    Duffy  177.65832  free  Seattle-Tacoma-Bellevue, WA    PUT   \n",
       "1    Duffy  156.23791  free  Seattle-Tacoma-Bellevue, WA    PUT   \n",
       "2    Duffy        NaN  free  Seattle-Tacoma-Bellevue, WA    GET   \n",
       "3    Duffy        NaN  free  Seattle-Tacoma-Bellevue, WA    GET   \n",
       "4    Duffy        NaN  free  Seattle-Tacoma-Bellevue, WA    PUT   \n",
       "\n",
       "            page  registration  sessionId                song  status  \\\n",
       "0       NextSong  1.540146e+12        846  Argue (LP Version)     200   \n",
       "1       NextSong  1.540146e+12        846       I'm On A Boat     200   \n",
       "2           Home  1.540146e+12        846                None     200   \n",
       "3       Settings  1.540146e+12        846                None     200   \n",
       "4  Save Settings  1.540146e+12        846                None     307   \n",
       "\n",
       "              ts                                          userAgent userId  \n",
       "0  1543109954796  \"Mozilla/5.0 (iPhone; CPU iPhone OS 7_1_2 like...     76  \n",
       "1  1543110131796  \"Mozilla/5.0 (iPhone; CPU iPhone OS 7_1_2 like...     76  \n",
       "2  1543110132796  \"Mozilla/5.0 (iPhone; CPU iPhone OS 7_1_2 like...     76  \n",
       "3  1543110168796  \"Mozilla/5.0 (iPhone; CPU iPhone OS 7_1_2 like...     76  \n",
       "4  1543110169796  \"Mozilla/5.0 (iPhone; CPU iPhone OS 7_1_2 like...     76  "
      ]
     },
     "execution_count": 22,
     "metadata": {},
     "output_type": "execute_result"
    }
   ],
   "source": [
    "df_log_data.head()"
   ]
  },
  {
   "cell_type": "code",
   "execution_count": 39,
   "metadata": {},
   "outputs": [
    {
     "data": {
      "text/plain": [
       "artist                                                      Trafik\n",
       "auth                                                     Logged In\n",
       "firstName                                               Jacqueline\n",
       "gender                                                           F\n",
       "itemInSession                                                    6\n",
       "lastName                                                     Lynch\n",
       "length                                                     380.212\n",
       "level                                                         paid\n",
       "location                         Atlanta-Sandy Springs-Roswell, GA\n",
       "method                                                         PUT\n",
       "page                                                      NextSong\n",
       "registration                                           1.54022e+12\n",
       "sessionId                                                      924\n",
       "song                                                    Dirty Word\n",
       "status                                                         200\n",
       "ts                                                   1543255030796\n",
       "userAgent        \"Mozilla/5.0 (Macintosh; Intel Mac OS X 10_9_4...\n",
       "userId                                                          29\n",
       "Name: 240, dtype: object"
      ]
     },
     "execution_count": 39,
     "metadata": {},
     "output_type": "execute_result"
    }
   ],
   "source": [
    "row = df_log_data[df_log_data.artist == 'Trafik'].loc[240]\n",
    "row"
   ]
  },
  {
   "cell_type": "markdown",
   "metadata": {},
   "source": [
    "### Checking for unique Artists in each dataframe"
   ]
  },
  {
   "cell_type": "code",
   "execution_count": 32,
   "metadata": {},
   "outputs": [
    {
     "data": {
      "text/plain": [
       "{'Blue Rodeo',\n",
       " 'Elena',\n",
       " 'Gob',\n",
       " 'Gwen Stefani',\n",
       " 'Jimmy Wakely',\n",
       " 'Line Renaud',\n",
       " 'Lionel Richie',\n",
       " 'Lupe Fiasco',\n",
       " 'Sophie B. Hawkins',\n",
       " 'Tom Petty',\n",
       " 'Trafik'}"
      ]
     },
     "execution_count": 32,
     "metadata": {},
     "output_type": "execute_result"
    }
   ],
   "source": [
    "set(df_song_data.artist_name.unique()).intersection(set(df_log_data.artist.unique()))"
   ]
  },
  {
   "cell_type": "code",
   "execution_count": 41,
   "metadata": {},
   "outputs": [
    {
     "data": {
      "text/plain": [
       "3149"
      ]
     },
     "execution_count": 41,
     "metadata": {},
     "output_type": "execute_result"
    }
   ],
   "source": [
    "len(df_log_data.artist.unique())"
   ]
  },
  {
   "cell_type": "code",
   "execution_count": 42,
   "metadata": {},
   "outputs": [
    {
     "data": {
      "text/plain": [
       "69"
      ]
     },
     "execution_count": 42,
     "metadata": {},
     "output_type": "execute_result"
    }
   ],
   "source": [
    "len(df_song_data.artist_name.unique())"
   ]
  },
  {
   "cell_type": "code",
   "execution_count": 40,
   "metadata": {},
   "outputs": [
    {
     "name": "stdout",
     "output_type": "stream",
     "text": [
      "\n",
      "SELECT s.song_id,\n",
      "       s.artist_id\n",
      "  FROM songs s\n",
      "  JOIN artists a ON s.artist_id = a.artist_id\n",
      " WHERE 1 = 1\n",
      "   AND s.title = Dirty Word\n",
      "   AND a.name = Trafik\n",
      "   AND s.duration = 380.21179\n",
      "\n"
     ]
    }
   ],
   "source": [
    "print(f'''\n",
    "SELECT s.song_id,\n",
    "       s.artist_id\n",
    "  FROM songs s\n",
    "  JOIN artists a ON s.artist_id = a.artist_id\n",
    " WHERE 1 = 1\n",
    "   AND s.title = {row.song}\n",
    "   AND a.name = {row.artist}\n",
    "   AND s.duration = {row.length}\n",
    "''')"
   ]
  },
  {
   "cell_type": "code",
   "execution_count": null,
   "metadata": {},
   "outputs": [],
   "source": []
  }
 ],
 "metadata": {
  "kernelspec": {
   "display_name": "data_eng_project1",
   "language": "python",
   "name": "data_eng_project1"
  },
  "language_info": {
   "codemirror_mode": {
    "name": "ipython",
    "version": 3
   },
   "file_extension": ".py",
   "mimetype": "text/x-python",
   "name": "python",
   "nbconvert_exporter": "python",
   "pygments_lexer": "ipython3",
   "version": "3.7.9"
  }
 },
 "nbformat": 4,
 "nbformat_minor": 4
}
